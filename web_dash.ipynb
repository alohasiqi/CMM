{
 "cells": [
  {
   "cell_type": "code",
   "execution_count": 1,
   "metadata": {},
   "outputs": [],
   "source": [
    "import dash\n",
    "import dash_core_components as dcc \n",
    "import dash_html_components as html\n",
    "import plotly.graph_objs as go\n",
    "import plotly.express as px\n",
    "import statsmodels.api as sm\n",
    "import pandas as pd "
   ]
  },
  {
   "cell_type": "code",
   "execution_count": 2,
   "metadata": {},
   "outputs": [
    {
     "data": {
      "text/plain": [
       "'/Users/siqisun/Documents/GitHub/CMM'"
      ]
     },
     "execution_count": 2,
     "metadata": {},
     "output_type": "execute_result"
    }
   ],
   "source": [
    "import os\n",
    "os.getcwd()"
   ]
  },
  {
   "cell_type": "code",
   "execution_count": 30,
   "metadata": {},
   "outputs": [],
   "source": [
    "df = pd.read_csv('summary.csv')\n",
    "df_filt = df.dropna(subset=[\"pa_approved\"])\n",
    "\n",
    "provider = df['bin'].unique()\n",
    "drug = df['drug'].unique()\n",
    "year = df['calendar_year'].unique()\n",
    "\n",
    "tdf = df_filt[[\"calendar_year\", \"calendar_month\"]].drop_duplicates()\n",
    "tdf['year-month'] = tdf[\"calendar_year\"].map(str)+'-'+tdf['calendar_month'].map(str)\n",
    "tdf = tdf.set_index([\"calendar_year\", \"calendar_month\"])\n",
    "tdf['rate'] = 0"
   ]
  },
  {
   "cell_type": "code",
   "execution_count": 36,
   "metadata": {
    "scrolled": false
   },
   "outputs": [
    {
     "name": "stdout",
     "output_type": "stream",
     "text": [
      " * Serving Flask app \"__main__\" (lazy loading)\n",
      " * Environment: production\n",
      "\u001b[31m   WARNING: This is a development server. Do not use it in a production deployment.\u001b[0m\n",
      "\u001b[2m   Use a production WSGI server instead.\u001b[0m\n",
      " * Debug mode: off\n"
     ]
    },
    {
     "name": "stderr",
     "output_type": "stream",
     "text": [
      " * Running on http://127.0.0.1:8050/ (Press CTRL+C to quit)\n",
      "127.0.0.1 - - [19/May/2021 15:02:04] \"\u001b[37mGET / HTTP/1.1\u001b[0m\" 200 -\n",
      "127.0.0.1 - - [19/May/2021 15:02:05] \"\u001b[37mGET /_dash-layout HTTP/1.1\u001b[0m\" 200 -\n",
      "127.0.0.1 - - [19/May/2021 15:02:05] \"\u001b[37mGET /_dash-dependencies HTTP/1.1\u001b[0m\" 200 -\n",
      "127.0.0.1 - - [19/May/2021 15:02:05] \"\u001b[37mGET /favicon.ico HTTP/1.1\u001b[0m\" 200 -\n",
      "127.0.0.1 - - [19/May/2021 15:02:05] \"\u001b[37mPOST /_dash-update-component HTTP/1.1\u001b[0m\" 200 -\n",
      "127.0.0.1 - - [19/May/2021 15:02:38] \"\u001b[37mPOST /_dash-update-component HTTP/1.1\u001b[0m\" 200 -\n",
      "127.0.0.1 - - [19/May/2021 15:02:42] \"\u001b[37mPOST /_dash-update-component HTTP/1.1\u001b[0m\" 200 -\n",
      "127.0.0.1 - - [19/May/2021 15:04:06] \"\u001b[37mPOST /_dash-update-component HTTP/1.1\u001b[0m\" 200 -\n",
      "127.0.0.1 - - [19/May/2021 15:04:06] \"\u001b[37mPOST /_dash-update-component HTTP/1.1\u001b[0m\" 200 -\n",
      "127.0.0.1 - - [19/May/2021 15:21:02] \"\u001b[37mPOST /_dash-update-component HTTP/1.1\u001b[0m\" 200 -\n",
      "127.0.0.1 - - [19/May/2021 15:41:01] \"\u001b[37mPOST /_dash-update-component HTTP/1.1\u001b[0m\" 200 -\n"
     ]
    }
   ],
   "source": [
    "app = dash.Dash()\n",
    "app.layout = html.Div([\n",
    "    html.Div([\n",
    "        html.Label('Drug_type'),\n",
    "        html.Div([\n",
    "            dcc.RadioItems(\n",
    "                id='drug_type',\n",
    "                options=[{'label': i, 'value': i} for i in drug],\n",
    "                value=drug[0],\n",
    "                labelStyle={'display': 'inline-block'})\n",
    "        ]),\n",
    "        html.Label('Provider_type'),\n",
    "        html.Div([\n",
    "            dcc.RadioItems(\n",
    "                id='provider_type',\n",
    "                options=[{'label': i, 'value': i} for i in provider],\n",
    "                value=provider[0],\n",
    "                labelStyle={'display': 'inline-block'})\n",
    "        ]),\n",
    "        html.Label('Approval Rate across time'),\n",
    "    ]),\n",
    "    html.Div([\n",
    "        dcc.Graph(id='app_rate')\n",
    "    ], style={'width': '49%', 'display': 'inline-block', 'padding': '0 20'}), \n",
    "])\n",
    "\n",
    "@app.callback(\n",
    "    dash.dependencies.Output('app_rate', 'figure'),\n",
    "    [dash.dependencies.Input('drug_type','value'),\n",
    "     dash.dependencies.Input('provider_type','value')]\n",
    ")\n",
    "\n",
    "def update_app_rate(value_drug, value_provider):    \n",
    "    for j in year:\n",
    "        df_cal = df_filt[(df_filt['drug']==value_drug)&(df_filt['bin']==value_provider)&(df_filt['calendar_year']==j)]\n",
    "        for i in range(1, 13):\n",
    "            PA_requests = len(df_cal[df_cal['calendar_month']==i])\n",
    "            PA_approved = len(df_cal[(df_cal['calendar_month']==i)&(df_cal['pa_approved']==1)])        \n",
    "            PA_approval_rate = (PA_approved/PA_requests)*100\n",
    "            tdf.loc[(j, i), \"rate\"] = PA_approval_rate\n",
    "\n",
    "    fig = px.line(tdf, x=tdf[\"year-month\"], y=tdf[\"rate\"])\n",
    "    return fig\n",
    "\n",
    "if __name__ == '__main__':\n",
    "    app.run_server()"
   ]
  },
  {
   "cell_type": "code",
   "execution_count": null,
   "metadata": {},
   "outputs": [],
   "source": []
  },
  {
   "cell_type": "code",
   "execution_count": null,
   "metadata": {},
   "outputs": [],
   "source": []
  }
 ],
 "metadata": {
  "kernelspec": {
   "display_name": "Python 3",
   "language": "python",
   "name": "python3"
  },
  "language_info": {
   "codemirror_mode": {
    "name": "ipython",
    "version": 3
   },
   "file_extension": ".py",
   "mimetype": "text/x-python",
   "name": "python",
   "nbconvert_exporter": "python",
   "pygments_lexer": "ipython3",
   "version": "3.8.5"
  }
 },
 "nbformat": 4,
 "nbformat_minor": 4
}
