{
 "cells": [
  {
   "cell_type": "code",
   "execution_count": 93,
   "id": "94293332",
   "metadata": {},
   "outputs": [],
   "source": [
    "# to make tab autocomplete work\n",
    "%config Completer.use_jedi = False"
   ]
  },
  {
   "cell_type": "code",
   "execution_count": 26,
   "id": "9c11276f",
   "metadata": {},
   "outputs": [],
   "source": [
    "# imoprt packages\n",
    "import numpy as np\n",
    "import pandas as pd\n",
    "import matplotlib.pyplot as plt\n",
    "import seaborn as sns\n",
    "from sklearn.model_selection import train_test_split\n",
    "from sklearn.linear_model import LogisticRegression\n",
    "from sklearn.metrics import accuracy_score\n",
    "from sklearn.model_selection import KFold\n",
    "from sklearn.model_selection import cross_val_score"
   ]
  },
  {
   "cell_type": "code",
   "execution_count": 2,
   "id": "8be637dd",
   "metadata": {},
   "outputs": [],
   "source": [
    "# read data\n",
    "dim_pa_claims_rejected = pd.read_csv('../CoverMyMeds_data/dim_pa_claim_rejected.csv')"
   ]
  },
  {
   "cell_type": "code",
   "execution_count": 3,
   "id": "c1ddd28b",
   "metadata": {},
   "outputs": [
    {
     "data": {
      "text/html": [
       "<div>\n",
       "<style scoped>\n",
       "    .dataframe tbody tr th:only-of-type {\n",
       "        vertical-align: middle;\n",
       "    }\n",
       "\n",
       "    .dataframe tbody tr th {\n",
       "        vertical-align: top;\n",
       "    }\n",
       "\n",
       "    .dataframe thead th {\n",
       "        text-align: right;\n",
       "    }\n",
       "</style>\n",
       "<table border=\"1\" class=\"dataframe\">\n",
       "  <thead>\n",
       "    <tr style=\"text-align: right;\">\n",
       "      <th></th>\n",
       "      <th>dim_claim_id</th>\n",
       "      <th>bin</th>\n",
       "      <th>drug</th>\n",
       "      <th>reject_code</th>\n",
       "      <th>pharmacy_claim_approved</th>\n",
       "      <th>reject_reason</th>\n",
       "      <th>dim_pa_id</th>\n",
       "      <th>dim_date_id</th>\n",
       "      <th>correct_diagnosis</th>\n",
       "      <th>tried_and_failed</th>\n",
       "      <th>contraindication</th>\n",
       "      <th>pa_approved</th>\n",
       "      <th>Type</th>\n",
       "    </tr>\n",
       "  </thead>\n",
       "  <tbody>\n",
       "    <tr>\n",
       "      <th>0</th>\n",
       "      <td>1</td>\n",
       "      <td>417380</td>\n",
       "      <td>A</td>\n",
       "      <td>75.0</td>\n",
       "      <td>0</td>\n",
       "      <td>In_formulary_needs_PA</td>\n",
       "      <td>1.0</td>\n",
       "      <td>1</td>\n",
       "      <td>1</td>\n",
       "      <td>1</td>\n",
       "      <td>0</td>\n",
       "      <td>1</td>\n",
       "      <td>T2</td>\n",
       "    </tr>\n",
       "    <tr>\n",
       "      <th>1</th>\n",
       "      <td>3</td>\n",
       "      <td>417740</td>\n",
       "      <td>A</td>\n",
       "      <td>76.0</td>\n",
       "      <td>0</td>\n",
       "      <td>Limit_exceeded</td>\n",
       "      <td>2.0</td>\n",
       "      <td>1</td>\n",
       "      <td>1</td>\n",
       "      <td>0</td>\n",
       "      <td>0</td>\n",
       "      <td>1</td>\n",
       "      <td>T1</td>\n",
       "    </tr>\n",
       "    <tr>\n",
       "      <th>2</th>\n",
       "      <td>10</td>\n",
       "      <td>417380</td>\n",
       "      <td>A</td>\n",
       "      <td>75.0</td>\n",
       "      <td>0</td>\n",
       "      <td>In_formulary_needs_PA</td>\n",
       "      <td>3.0</td>\n",
       "      <td>1</td>\n",
       "      <td>0</td>\n",
       "      <td>0</td>\n",
       "      <td>1</td>\n",
       "      <td>1</td>\n",
       "      <td>T7</td>\n",
       "    </tr>\n",
       "    <tr>\n",
       "      <th>3</th>\n",
       "      <td>11</td>\n",
       "      <td>999001</td>\n",
       "      <td>A</td>\n",
       "      <td>76.0</td>\n",
       "      <td>0</td>\n",
       "      <td>Limit_exceeded</td>\n",
       "      <td>4.0</td>\n",
       "      <td>1</td>\n",
       "      <td>1</td>\n",
       "      <td>1</td>\n",
       "      <td>0</td>\n",
       "      <td>1</td>\n",
       "      <td>T2</td>\n",
       "    </tr>\n",
       "    <tr>\n",
       "      <th>4</th>\n",
       "      <td>15</td>\n",
       "      <td>417614</td>\n",
       "      <td>A</td>\n",
       "      <td>70.0</td>\n",
       "      <td>0</td>\n",
       "      <td>Not_in_formulary</td>\n",
       "      <td>5.0</td>\n",
       "      <td>1</td>\n",
       "      <td>0</td>\n",
       "      <td>1</td>\n",
       "      <td>0</td>\n",
       "      <td>1</td>\n",
       "      <td>T5</td>\n",
       "    </tr>\n",
       "  </tbody>\n",
       "</table>\n",
       "</div>"
      ],
      "text/plain": [
       "   dim_claim_id     bin drug  reject_code  pharmacy_claim_approved  \\\n",
       "0             1  417380    A         75.0                        0   \n",
       "1             3  417740    A         76.0                        0   \n",
       "2            10  417380    A         75.0                        0   \n",
       "3            11  999001    A         76.0                        0   \n",
       "4            15  417614    A         70.0                        0   \n",
       "\n",
       "           reject_reason  dim_pa_id  dim_date_id  correct_diagnosis  \\\n",
       "0  In_formulary_needs_PA        1.0            1                  1   \n",
       "1         Limit_exceeded        2.0            1                  1   \n",
       "2  In_formulary_needs_PA        3.0            1                  0   \n",
       "3         Limit_exceeded        4.0            1                  1   \n",
       "4       Not_in_formulary        5.0            1                  0   \n",
       "\n",
       "   tried_and_failed  contraindication  pa_approved Type  \n",
       "0                 1                 0            1   T2  \n",
       "1                 0                 0            1   T1  \n",
       "2                 0                 1            1   T7  \n",
       "3                 1                 0            1   T2  \n",
       "4                 1                 0            1   T5  "
      ]
     },
     "execution_count": 3,
     "metadata": {},
     "output_type": "execute_result"
    }
   ],
   "source": [
    "dim_pa_claims_rejected.head()"
   ]
  },
  {
   "cell_type": "code",
   "execution_count": 243,
   "id": "1b97856c",
   "metadata": {},
   "outputs": [
    {
     "data": {
      "text/plain": [
       "bin                  0.140196\n",
       "reject_code          0.475336\n",
       "correct_diagnosis    0.035889\n",
       "tried_and_failed     0.125490\n",
       "contraindication    -0.223283\n",
       "pa_approved          1.000000\n",
       "Name: pa_approved, dtype: float64"
      ]
     },
     "execution_count": 243,
     "metadata": {},
     "output_type": "execute_result"
    }
   ],
   "source": [
    "# correlation of features and pa_approved\n",
    "dim_pa_claims_rejected[['bin','reject_code','correct_diagnosis','tried_and_failed','contraindication','pa_approved']].corr()['pa_approved']"
   ]
  },
  {
   "cell_type": "code",
   "execution_count": 87,
   "id": "54079204",
   "metadata": {},
   "outputs": [],
   "source": [
    "# Seperate dim_pa_claims_rejected into X and y\n",
    "\n",
    "X = dim_pa_claims_rejected[['bin','drug', 'reject_reason','correct_diagnosis','tried_and_failed','contraindication']]\n",
    "y = dim_pa_claims_rejected['pa_approved']"
   ]
  },
  {
   "cell_type": "code",
   "execution_count": 316,
   "id": "c7214533",
   "metadata": {},
   "outputs": [],
   "source": [
    "# Add new column payer\n",
    "# convert bin from int to str\n",
    "X_copy = X.copy()\n",
    "X_copy['payer'] = ''\n",
    "\n",
    "X_copy.loc[X_copy.bin==417380, 'payer'] = 'C1'\n",
    "X_copy.loc[X_copy.bin==999001, 'payer'] = 'C2'\n",
    "X_copy.loc[X_copy.bin==417740, 'payer'] = 'C3'\n",
    "X_copy.loc[X_copy.bin==417614, 'payer'] = 'C4'"
   ]
  },
  {
   "cell_type": "code",
   "execution_count": 317,
   "id": "3588b941",
   "metadata": {},
   "outputs": [
    {
     "data": {
      "text/html": [
       "<div>\n",
       "<style scoped>\n",
       "    .dataframe tbody tr th:only-of-type {\n",
       "        vertical-align: middle;\n",
       "    }\n",
       "\n",
       "    .dataframe tbody tr th {\n",
       "        vertical-align: top;\n",
       "    }\n",
       "\n",
       "    .dataframe thead th {\n",
       "        text-align: right;\n",
       "    }\n",
       "</style>\n",
       "<table border=\"1\" class=\"dataframe\">\n",
       "  <thead>\n",
       "    <tr style=\"text-align: right;\">\n",
       "      <th></th>\n",
       "      <th>bin</th>\n",
       "      <th>drug</th>\n",
       "      <th>reject_reason</th>\n",
       "      <th>correct_diagnosis</th>\n",
       "      <th>tried_and_failed</th>\n",
       "      <th>contraindication</th>\n",
       "      <th>payer</th>\n",
       "    </tr>\n",
       "  </thead>\n",
       "  <tbody>\n",
       "    <tr>\n",
       "      <th>0</th>\n",
       "      <td>417380</td>\n",
       "      <td>A</td>\n",
       "      <td>In_formulary_needs_PA</td>\n",
       "      <td>1</td>\n",
       "      <td>1</td>\n",
       "      <td>0</td>\n",
       "      <td>C1</td>\n",
       "    </tr>\n",
       "    <tr>\n",
       "      <th>1</th>\n",
       "      <td>417740</td>\n",
       "      <td>A</td>\n",
       "      <td>Limit_exceeded</td>\n",
       "      <td>1</td>\n",
       "      <td>0</td>\n",
       "      <td>0</td>\n",
       "      <td>C3</td>\n",
       "    </tr>\n",
       "    <tr>\n",
       "      <th>2</th>\n",
       "      <td>417380</td>\n",
       "      <td>A</td>\n",
       "      <td>In_formulary_needs_PA</td>\n",
       "      <td>0</td>\n",
       "      <td>0</td>\n",
       "      <td>1</td>\n",
       "      <td>C1</td>\n",
       "    </tr>\n",
       "    <tr>\n",
       "      <th>3</th>\n",
       "      <td>999001</td>\n",
       "      <td>A</td>\n",
       "      <td>Limit_exceeded</td>\n",
       "      <td>1</td>\n",
       "      <td>1</td>\n",
       "      <td>0</td>\n",
       "      <td>C2</td>\n",
       "    </tr>\n",
       "    <tr>\n",
       "      <th>4</th>\n",
       "      <td>417614</td>\n",
       "      <td>A</td>\n",
       "      <td>Not_in_formulary</td>\n",
       "      <td>0</td>\n",
       "      <td>1</td>\n",
       "      <td>0</td>\n",
       "      <td>C4</td>\n",
       "    </tr>\n",
       "  </tbody>\n",
       "</table>\n",
       "</div>"
      ],
      "text/plain": [
       "      bin drug          reject_reason  correct_diagnosis  tried_and_failed  \\\n",
       "0  417380    A  In_formulary_needs_PA                  1                 1   \n",
       "1  417740    A         Limit_exceeded                  1                 0   \n",
       "2  417380    A  In_formulary_needs_PA                  0                 0   \n",
       "3  999001    A         Limit_exceeded                  1                 1   \n",
       "4  417614    A       Not_in_formulary                  0                 1   \n",
       "\n",
       "   contraindication payer  \n",
       "0                 0    C1  \n",
       "1                 0    C3  \n",
       "2                 1    C1  \n",
       "3                 0    C2  \n",
       "4                 0    C4  "
      ]
     },
     "execution_count": 317,
     "metadata": {},
     "output_type": "execute_result"
    }
   ],
   "source": [
    "X_copy.head()"
   ]
  },
  {
   "cell_type": "markdown",
   "id": "8fc2688f",
   "metadata": {},
   "source": [
    "#### I tried using interaction terms, it did not have any influence on the accuracy/roc_auc of the model."
   ]
  },
  {
   "cell_type": "code",
   "execution_count": 370,
   "id": "a8f73b05",
   "metadata": {},
   "outputs": [],
   "source": [
    "# One Hot Encoding\n",
    "X_final = X_copy[['drug','payer','reject_reason','correct_diagnosis','tried_and_failed','contraindication']]\n",
    "X_enc=pd.get_dummies(X_final, drop_first=True)"
   ]
  },
  {
   "cell_type": "code",
   "execution_count": 371,
   "id": "bd65795c",
   "metadata": {},
   "outputs": [
    {
     "data": {
      "text/plain": [
       "Index(['correct_diagnosis', 'tried_and_failed', 'contraindication', 'drug_B',\n",
       "       'drug_C', 'payer_C2', 'payer_C3', 'payer_C4',\n",
       "       'reject_reason_Limit_exceeded', 'reject_reason_Not_in_formulary'],\n",
       "      dtype='object')"
      ]
     },
     "execution_count": 371,
     "metadata": {},
     "output_type": "execute_result"
    }
   ],
   "source": [
    "X_enc.columns"
   ]
  },
  {
   "cell_type": "code",
   "execution_count": 373,
   "id": "b92a5030",
   "metadata": {},
   "outputs": [],
   "source": [
    "# train-test split\n",
    "X_train, X_test, y_train, y_test = train_test_split(X_enc, y, random_state =42, shuffle = True, test_size = 0.25, stratify = y)"
   ]
  },
  {
   "cell_type": "code",
   "execution_count": 374,
   "id": "f4f3b3df",
   "metadata": {},
   "outputs": [
    {
     "data": {
      "image/png": "[encoded data removed]",
      "text/plain": [
       "<Figure size 576x576 with 2 Axes>"
      ]
     },
     "metadata": {
      "needs_background": "light"
     },
     "output_type": "display_data"
    }
   ],
   "source": [
    "# correlation between features\n",
    "plt.figure(figsize=(8,8))\n",
    "heatmap = sns.heatmap(X_train.corr(), vmin=-1, vmax=1, annot=True)"
   ]
  },
  {
   "cell_type": "markdown",
   "id": "d5adf3d9",
   "metadata": {},
   "source": [
    "#### There is a strong correlation between payer_C2 and reject_reason_Limit_exceeded. While this makes the inerpretation of the coefficients difficult, it does not affect the predictions of the model.\n",
    "#### There is a slight anti-correlation between payer_C4 and drug_C, payer_C2, payer_C3. But , i think they can be safely ignored."
   ]
  },
  {
   "cell_type": "code",
   "execution_count": 375,
   "id": "26c1f42b",
   "metadata": {},
   "outputs": [],
   "source": [
    "# Logistic regression\n",
    "clf = LogisticRegression(random_state =42, solver = 'lbfgs')"
   ]
  },
  {
   "cell_type": "code",
   "execution_count": 376,
   "id": "4a9cf75c",
   "metadata": {},
   "outputs": [
    {
     "data": {
      "text/plain": [
       "LogisticRegression(random_state=42)"
      ]
     },
     "execution_count": 376,
     "metadata": {},
     "output_type": "execute_result"
    }
   ],
   "source": [
    "clf.fit(X_train, y_train)"
   ]
  },
  {
   "cell_type": "code",
   "execution_count": 377,
   "id": "b464645e",
   "metadata": {},
   "outputs": [
    {
     "name": "stdout",
     "output_type": "stream",
     "text": [
      "Accuracy: 0.814 (0.001)\n"
     ]
    }
   ],
   "source": [
    "# cross-validation\n",
    "cv = KFold(n_splits=5, random_state=42, shuffle=True)\n",
    "\n",
    "# evaluate model\n",
    "scores = cross_val_score(clf, X_train, y_train, scoring='accuracy', cv=cv, n_jobs=-1)\n",
    "\n",
    "# report performance\n",
    "print('Accuracy: %.3f (%.3f)' % (np.mean(scores), np.std(scores)))"
   ]
  },
  {
   "cell_type": "code",
   "execution_count": 378,
   "id": "be9c1141",
   "metadata": {},
   "outputs": [
    {
     "data": {
      "text/plain": [
       "array([[ 0.32491079,  0.91909794, -1.87948933, -0.49387721, -2.09494474,\n",
       "        -0.13198258, -1.26776408, -0.85547581, -1.61791406, -4.03772117]])"
      ]
     },
     "execution_count": 378,
     "metadata": {},
     "output_type": "execute_result"
    }
   ],
   "source": [
    "clf.coef_"
   ]
  },
  {
   "cell_type": "code",
   "execution_count": 379,
   "id": "c03f665d",
   "metadata": {},
   "outputs": [
    {
     "data": {
      "text/plain": [
       "0.864019839133894"
      ]
     },
     "execution_count": 379,
     "metadata": {},
     "output_type": "execute_result"
    }
   ],
   "source": [
    "clf.predict_proba([[1,0,0,1,0,0,1,0,1,0]])[0][1]"
   ]
  },
  {
   "cell_type": "code",
   "execution_count": 380,
   "id": "98bed9ad",
   "metadata": {},
   "outputs": [
    {
     "data": {
      "text/plain": [
       "0.47642218054411883"
      ]
     },
     "execution_count": 380,
     "metadata": {},
     "output_type": "execute_result"
    }
   ],
   "source": [
    "correct_diagnosis = 0\n",
    "tried_and_failed = 1\n",
    "contraindication = 1\n",
    "drug_A = 1\n",
    "drug_B = 0\n",
    "drug_C = 0\n",
    "payer_C1 = 1\n",
    "payer_C2 = 0\n",
    "payer_C3 = 0\n",
    "payer_C4 = 0\n",
    "reject_reason_In_formulary_needs_PA = 0\n",
    "reject_reason_Limit_exceeded = 0\n",
    "reject_reason_Not_in_formulary = 1\n",
    "\n",
    "arr = np.array([correct_diagnosis, tried_and_failed, contraindication, drug_B,\n",
    "       drug_C, payer_C2, payer_C3, payer_C4,\n",
    "       reject_reason_Limit_exceeded, reject_reason_Not_in_formulary])\n",
    "\n",
    "clf.predict_proba(arr.reshape(1,-1))[0][1]\n"
   ]
  },
  {
   "cell_type": "markdown",
   "id": "1f10a054",
   "metadata": {},
   "source": [
    "# Statsmodels\n",
    "#### To check the significance of the model"
   ]
  },
  {
   "cell_type": "code",
   "execution_count": 381,
   "id": "280b8c56",
   "metadata": {},
   "outputs": [],
   "source": [
    "import statsmodels.api as sm"
   ]
  },
  {
   "cell_type": "code",
   "execution_count": 382,
   "id": "bed2cc51",
   "metadata": {},
   "outputs": [
    {
     "name": "stdout",
     "output_type": "stream",
     "text": [
      "Optimization terminated successfully.\n",
      "         Current function value: 0.437975\n",
      "         Iterations 7\n"
     ]
    }
   ],
   "source": [
    "model = sm.Logit(endog=y_train, exog=X_train).fit()"
   ]
  },
  {
   "cell_type": "code",
   "execution_count": 383,
   "id": "2d642ff9",
   "metadata": {},
   "outputs": [
    {
     "name": "stdout",
     "output_type": "stream",
     "text": [
      "                           Logit Regression Results                           \n",
      "==============================================================================\n",
      "Dep. Variable:            pa_approved   No. Observations:               416963\n",
      "Model:                          Logit   Df Residuals:                   416953\n",
      "Method:                           MLE   Df Model:                            9\n",
      "Date:                Thu, 20 May 2021   Pseudo R-squ.:                  0.2433\n",
      "Time:                        12:20:29   Log-Likelihood:            -1.8262e+05\n",
      "converged:                       True   LL-Null:                   -2.4133e+05\n",
      "Covariance Type:            nonrobust   LLR p-value:                     0.000\n",
      "==================================================================================================\n",
      "                                     coef    std err          z      P>|z|      [0.025      0.975]\n",
      "--------------------------------------------------------------------------------------------------\n",
      "correct_diagnosis                  1.4690      0.008    175.036      0.000       1.453       1.485\n",
      "tried_and_failed                   1.3010      0.008    157.256      0.000       1.285       1.317\n",
      "contraindication                  -1.2852      0.010   -129.736      0.000      -1.305      -1.266\n",
      "drug_B                             0.3812      0.013     28.416      0.000       0.355       0.408\n",
      "drug_C                            -0.1641      0.012    -13.661      0.000      -0.188      -0.141\n",
      "payer_C2                           1.4207      0.029     48.961      0.000       1.364       1.478\n",
      "payer_C3                           0.3378      0.014     24.725      0.000       0.311       0.365\n",
      "payer_C4                           1.4487      0.011    129.309      0.000       1.427       1.471\n",
      "reject_reason_Limit_exceeded      -0.3515      0.023    -14.983      0.000      -0.397      -0.305\n",
      "reject_reason_Not_in_formulary    -2.6367      0.011   -234.998      0.000      -2.659      -2.615\n",
      "==================================================================================================\n"
     ]
    }
   ],
   "source": [
    "print(model.summary())"
   ]
  },
  {
   "cell_type": "code",
   "execution_count": 384,
   "id": "d72dece9",
   "metadata": {},
   "outputs": [
    {
     "name": "stdout",
     "output_type": "stream",
     "text": [
      "correct_diagnosis                 4.344813\n",
      "tried_and_failed                  3.673089\n",
      "contraindication                  0.276592\n",
      "drug_B                            1.464079\n",
      "drug_C                            0.848628\n",
      "payer_C2                          4.140193\n",
      "payer_C3                          1.401828\n",
      "payer_C4                          4.257624\n",
      "reject_reason_Limit_exceeded      0.703650\n",
      "reject_reason_Not_in_formulary    0.071595\n",
      "dtype: float64\n"
     ]
    }
   ],
   "source": [
    "print(np.exp(model.params))"
   ]
  },
  {
   "cell_type": "code",
   "execution_count": null,
   "id": "886b3845",
   "metadata": {},
   "outputs": [],
   "source": []
  }
 ],
 "metadata": {
  "kernelspec": {
   "display_name": "Python 3",
   "language": "python",
   "name": "python3"
  },
  "language_info": {
   "codemirror_mode": {
    "name": "ipython",
    "version": 3
   },
   "file_extension": ".py",
   "mimetype": "text/x-python",
   "name": "python",
   "nbconvert_exporter": "python",
   "pygments_lexer": "ipython3",
   "version": "3.7.3"
  }
 },
 "nbformat": 4,
 "nbformat_minor": 5
}
