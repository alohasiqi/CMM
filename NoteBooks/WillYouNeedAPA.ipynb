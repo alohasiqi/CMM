{
 "cells": [
  {
   "cell_type": "code",
   "execution_count": 1,
   "id": "a7799e1c",
   "metadata": {},
   "outputs": [],
   "source": [
    "# import packages\n",
    "import numpy as np\n",
    "import matplotlib.pyplot as plt\n",
    "import pandas as pd\n",
    "import seaborn as sns\n",
    "from sklearn.preprocessing import OneHotEncoder"
   ]
  },
  {
   "cell_type": "code",
   "execution_count": 538,
   "id": "c6404de1",
   "metadata": {},
   "outputs": [],
   "source": [
    "# read in data\n",
    "claims = pd.read_csv('../CoverMyMeds_data/dim_claims.csv')"
   ]
  },
  {
   "cell_type": "code",
   "execution_count": 539,
   "id": "75b44324",
   "metadata": {},
   "outputs": [
    {
     "data": {
      "text/html": [
       "<div>\n",
       "<style scoped>\n",
       "    .dataframe tbody tr th:only-of-type {\n",
       "        vertical-align: middle;\n",
       "    }\n",
       "\n",
       "    .dataframe tbody tr th {\n",
       "        vertical-align: top;\n",
       "    }\n",
       "\n",
       "    .dataframe thead th {\n",
       "        text-align: right;\n",
       "    }\n",
       "</style>\n",
       "<table border=\"1\" class=\"dataframe\">\n",
       "  <thead>\n",
       "    <tr style=\"text-align: right;\">\n",
       "      <th></th>\n",
       "      <th>dim_claim_id</th>\n",
       "      <th>bin</th>\n",
       "      <th>drug</th>\n",
       "      <th>reject_code</th>\n",
       "      <th>pharmacy_claim_approved</th>\n",
       "    </tr>\n",
       "  </thead>\n",
       "  <tbody>\n",
       "    <tr>\n",
       "      <th>0</th>\n",
       "      <td>1</td>\n",
       "      <td>417380</td>\n",
       "      <td>A</td>\n",
       "      <td>75.0</td>\n",
       "      <td>0</td>\n",
       "    </tr>\n",
       "    <tr>\n",
       "      <th>1</th>\n",
       "      <td>2</td>\n",
       "      <td>999001</td>\n",
       "      <td>A</td>\n",
       "      <td>NaN</td>\n",
       "      <td>1</td>\n",
       "    </tr>\n",
       "    <tr>\n",
       "      <th>2</th>\n",
       "      <td>3</td>\n",
       "      <td>417740</td>\n",
       "      <td>A</td>\n",
       "      <td>76.0</td>\n",
       "      <td>0</td>\n",
       "    </tr>\n",
       "    <tr>\n",
       "      <th>3</th>\n",
       "      <td>4</td>\n",
       "      <td>999001</td>\n",
       "      <td>A</td>\n",
       "      <td>NaN</td>\n",
       "      <td>1</td>\n",
       "    </tr>\n",
       "    <tr>\n",
       "      <th>4</th>\n",
       "      <td>5</td>\n",
       "      <td>417740</td>\n",
       "      <td>A</td>\n",
       "      <td>NaN</td>\n",
       "      <td>1</td>\n",
       "    </tr>\n",
       "  </tbody>\n",
       "</table>\n",
       "</div>"
      ],
      "text/plain": [
       "   dim_claim_id     bin drug  reject_code  pharmacy_claim_approved\n",
       "0             1  417380    A         75.0                        0\n",
       "1             2  999001    A          NaN                        1\n",
       "2             3  417740    A         76.0                        0\n",
       "3             4  999001    A          NaN                        1\n",
       "4             5  417740    A          NaN                        1"
      ]
     },
     "execution_count": 539,
     "metadata": {},
     "output_type": "execute_result"
    }
   ],
   "source": [
    "claims.head()"
   ]
  },
  {
   "cell_type": "code",
   "execution_count": 4,
   "id": "4c4f2560",
   "metadata": {},
   "outputs": [
    {
     "data": {
      "text/plain": [
       "dim_claim_id                 int64\n",
       "bin                          int64\n",
       "drug                        object\n",
       "reject_code                float64\n",
       "pharmacy_claim_approved      int64\n",
       "dtype: object"
      ]
     },
     "execution_count": 4,
     "metadata": {},
     "output_type": "execute_result"
    }
   ],
   "source": [
    "claims.dtypes"
   ]
  },
  {
   "cell_type": "code",
   "execution_count": 5,
   "id": "311b3eda",
   "metadata": {},
   "outputs": [],
   "source": [
    "# replace nan with -99\n",
    "claims['reject_code'].replace(np.nan, -99, inplace=True)"
   ]
  },
  {
   "cell_type": "code",
   "execution_count": 6,
   "id": "cd1e44ad",
   "metadata": {},
   "outputs": [
    {
     "data": {
      "text/plain": [
       "array([417380, 999001, 417740, 417614])"
      ]
     },
     "execution_count": 6,
     "metadata": {},
     "output_type": "execute_result"
    }
   ],
   "source": [
    "claims.bin.unique()"
   ]
  },
  {
   "cell_type": "code",
   "execution_count": 540,
   "id": "05b8d45c",
   "metadata": {},
   "outputs": [],
   "source": [
    "# Add new column payer\n",
    "# convert bin from int to str\n",
    "claims['payer'] = ''"
   ]
  },
  {
   "cell_type": "code",
   "execution_count": 541,
   "id": "d449a6ee",
   "metadata": {},
   "outputs": [],
   "source": [
    "# rename payers\n",
    "\n",
    "claims.loc[claims.bin==417380, 'payer'] = 'C1'\n",
    "claims.loc[claims.bin==999001, 'payer'] = 'C2'\n",
    "claims.loc[claims.bin==417740, 'payer'] = 'C3'\n",
    "claims.loc[claims.bin==417614, 'payer'] = 'C4'"
   ]
  },
  {
   "cell_type": "code",
   "execution_count": 542,
   "id": "6f0aee91",
   "metadata": {},
   "outputs": [
    {
     "data": {
      "text/html": [
       "<div>\n",
       "<style scoped>\n",
       "    .dataframe tbody tr th:only-of-type {\n",
       "        vertical-align: middle;\n",
       "    }\n",
       "\n",
       "    .dataframe tbody tr th {\n",
       "        vertical-align: top;\n",
       "    }\n",
       "\n",
       "    .dataframe thead th {\n",
       "        text-align: right;\n",
       "    }\n",
       "</style>\n",
       "<table border=\"1\" class=\"dataframe\">\n",
       "  <thead>\n",
       "    <tr style=\"text-align: right;\">\n",
       "      <th></th>\n",
       "      <th>dim_claim_id</th>\n",
       "      <th>bin</th>\n",
       "      <th>drug</th>\n",
       "      <th>reject_code</th>\n",
       "      <th>pharmacy_claim_approved</th>\n",
       "      <th>payer</th>\n",
       "    </tr>\n",
       "  </thead>\n",
       "  <tbody>\n",
       "    <tr>\n",
       "      <th>0</th>\n",
       "      <td>1</td>\n",
       "      <td>417380</td>\n",
       "      <td>A</td>\n",
       "      <td>75.0</td>\n",
       "      <td>0</td>\n",
       "      <td>C1</td>\n",
       "    </tr>\n",
       "    <tr>\n",
       "      <th>1</th>\n",
       "      <td>2</td>\n",
       "      <td>999001</td>\n",
       "      <td>A</td>\n",
       "      <td>NaN</td>\n",
       "      <td>1</td>\n",
       "      <td>C2</td>\n",
       "    </tr>\n",
       "    <tr>\n",
       "      <th>2</th>\n",
       "      <td>3</td>\n",
       "      <td>417740</td>\n",
       "      <td>A</td>\n",
       "      <td>76.0</td>\n",
       "      <td>0</td>\n",
       "      <td>C3</td>\n",
       "    </tr>\n",
       "    <tr>\n",
       "      <th>3</th>\n",
       "      <td>4</td>\n",
       "      <td>999001</td>\n",
       "      <td>A</td>\n",
       "      <td>NaN</td>\n",
       "      <td>1</td>\n",
       "      <td>C2</td>\n",
       "    </tr>\n",
       "    <tr>\n",
       "      <th>4</th>\n",
       "      <td>5</td>\n",
       "      <td>417740</td>\n",
       "      <td>A</td>\n",
       "      <td>NaN</td>\n",
       "      <td>1</td>\n",
       "      <td>C3</td>\n",
       "    </tr>\n",
       "  </tbody>\n",
       "</table>\n",
       "</div>"
      ],
      "text/plain": [
       "   dim_claim_id     bin drug  reject_code  pharmacy_claim_approved payer\n",
       "0             1  417380    A         75.0                        0    C1\n",
       "1             2  999001    A          NaN                        1    C2\n",
       "2             3  417740    A         76.0                        0    C3\n",
       "3             4  999001    A          NaN                        1    C2\n",
       "4             5  417740    A          NaN                        1    C3"
      ]
     },
     "execution_count": 542,
     "metadata": {},
     "output_type": "execute_result"
    }
   ],
   "source": [
    "claims.head()"
   ]
  },
  {
   "cell_type": "code",
   "execution_count": 543,
   "id": "c908d233",
   "metadata": {},
   "outputs": [],
   "source": [
    "# Add new column reject_reason\n",
    "# convert reject_code from float to str\n",
    "\n",
    "claims['reject_reason'] = 'approved'"
   ]
  },
  {
   "cell_type": "code",
   "execution_count": 544,
   "id": "9196e757",
   "metadata": {},
   "outputs": [],
   "source": [
    "claims.loc[claims.reject_code==70, 'reject_reason'] = 'Not_in_formulary'\n",
    "claims.loc[claims.reject_code==75, 'reject_reason'] = 'In_formulary_needs_PA'\n",
    "claims.loc[claims.reject_code==76, 'reject_reason'] = 'In_formulary_exceeded_limit'"
   ]
  },
  {
   "cell_type": "code",
   "execution_count": 564,
   "id": "22e75860",
   "metadata": {},
   "outputs": [],
   "source": [
    "# create new feature\n",
    "\n",
    "claims['drug_payer'] = claims['drug'].astype(str)+'_'+claims['payer'].astype(str)"
   ]
  },
  {
   "cell_type": "code",
   "execution_count": 565,
   "id": "d9db101e",
   "metadata": {},
   "outputs": [
    {
     "data": {
      "text/html": [
       "<div>\n",
       "<style scoped>\n",
       "    .dataframe tbody tr th:only-of-type {\n",
       "        vertical-align: middle;\n",
       "    }\n",
       "\n",
       "    .dataframe tbody tr th {\n",
       "        vertical-align: top;\n",
       "    }\n",
       "\n",
       "    .dataframe thead th {\n",
       "        text-align: right;\n",
       "    }\n",
       "</style>\n",
       "<table border=\"1\" class=\"dataframe\">\n",
       "  <thead>\n",
       "    <tr style=\"text-align: right;\">\n",
       "      <th></th>\n",
       "      <th>dim_claim_id</th>\n",
       "      <th>bin</th>\n",
       "      <th>drug</th>\n",
       "      <th>reject_code</th>\n",
       "      <th>pharmacy_claim_approved</th>\n",
       "      <th>payer</th>\n",
       "      <th>reject_reason</th>\n",
       "      <th>drug_payer</th>\n",
       "    </tr>\n",
       "  </thead>\n",
       "  <tbody>\n",
       "    <tr>\n",
       "      <th>0</th>\n",
       "      <td>1</td>\n",
       "      <td>417380</td>\n",
       "      <td>A</td>\n",
       "      <td>75.0</td>\n",
       "      <td>0</td>\n",
       "      <td>C1</td>\n",
       "      <td>In_formulary_needs_PA</td>\n",
       "      <td>A_C1</td>\n",
       "    </tr>\n",
       "    <tr>\n",
       "      <th>1</th>\n",
       "      <td>2</td>\n",
       "      <td>999001</td>\n",
       "      <td>A</td>\n",
       "      <td>NaN</td>\n",
       "      <td>1</td>\n",
       "      <td>C2</td>\n",
       "      <td>approved</td>\n",
       "      <td>A_C2</td>\n",
       "    </tr>\n",
       "    <tr>\n",
       "      <th>2</th>\n",
       "      <td>3</td>\n",
       "      <td>417740</td>\n",
       "      <td>A</td>\n",
       "      <td>76.0</td>\n",
       "      <td>0</td>\n",
       "      <td>C3</td>\n",
       "      <td>In_formulary_exceeded_limit</td>\n",
       "      <td>A_C3</td>\n",
       "    </tr>\n",
       "    <tr>\n",
       "      <th>3</th>\n",
       "      <td>4</td>\n",
       "      <td>999001</td>\n",
       "      <td>A</td>\n",
       "      <td>NaN</td>\n",
       "      <td>1</td>\n",
       "      <td>C2</td>\n",
       "      <td>approved</td>\n",
       "      <td>A_C2</td>\n",
       "    </tr>\n",
       "    <tr>\n",
       "      <th>4</th>\n",
       "      <td>5</td>\n",
       "      <td>417740</td>\n",
       "      <td>A</td>\n",
       "      <td>NaN</td>\n",
       "      <td>1</td>\n",
       "      <td>C3</td>\n",
       "      <td>approved</td>\n",
       "      <td>A_C3</td>\n",
       "    </tr>\n",
       "  </tbody>\n",
       "</table>\n",
       "</div>"
      ],
      "text/plain": [
       "   dim_claim_id     bin drug  reject_code  pharmacy_claim_approved payer  \\\n",
       "0             1  417380    A         75.0                        0    C1   \n",
       "1             2  999001    A          NaN                        1    C2   \n",
       "2             3  417740    A         76.0                        0    C3   \n",
       "3             4  999001    A          NaN                        1    C2   \n",
       "4             5  417740    A          NaN                        1    C3   \n",
       "\n",
       "                 reject_reason drug_payer  \n",
       "0        In_formulary_needs_PA       A_C1  \n",
       "1                     approved       A_C2  \n",
       "2  In_formulary_exceeded_limit       A_C3  \n",
       "3                     approved       A_C2  \n",
       "4                     approved       A_C3  "
      ]
     },
     "execution_count": 565,
     "metadata": {},
     "output_type": "execute_result"
    }
   ],
   "source": [
    "claims.head()"
   ]
  },
  {
   "cell_type": "code",
   "execution_count": 566,
   "id": "323dfe88",
   "metadata": {},
   "outputs": [],
   "source": [
    "# Keep columns\n",
    "keep_columns = ['drug_payer']\n",
    "\n",
    "\n",
    "# X and y\n",
    "X = claims[keep_columns]\n",
    "y = claims['pharmacy_claim_approved']"
   ]
  },
  {
   "cell_type": "code",
   "execution_count": 25,
   "id": "cafb395b",
   "metadata": {},
   "outputs": [
    {
     "data": {
      "text/plain": [
       "779625"
      ]
     },
     "execution_count": 25,
     "metadata": {},
     "output_type": "execute_result"
    }
   ],
   "source": [
    "len(y[y==1])"
   ]
  },
  {
   "cell_type": "code",
   "execution_count": 24,
   "id": "618bab49",
   "metadata": {},
   "outputs": [
    {
     "data": {
      "text/plain": [
       "555951"
      ]
     },
     "execution_count": 24,
     "metadata": {},
     "output_type": "execute_result"
    }
   ],
   "source": [
    "len(y[y==0])"
   ]
  },
  {
   "cell_type": "code",
   "execution_count": 567,
   "id": "7677f621",
   "metadata": {},
   "outputs": [],
   "source": [
    "X_oneHotEncode = pd.get_dummies(X, drop_first=True)"
   ]
  },
  {
   "cell_type": "code",
   "execution_count": 568,
   "id": "0aab73a9",
   "metadata": {},
   "outputs": [
    {
     "data": {
      "text/html": [
       "<div>\n",
       "<style scoped>\n",
       "    .dataframe tbody tr th:only-of-type {\n",
       "        vertical-align: middle;\n",
       "    }\n",
       "\n",
       "    .dataframe tbody tr th {\n",
       "        vertical-align: top;\n",
       "    }\n",
       "\n",
       "    .dataframe thead th {\n",
       "        text-align: right;\n",
       "    }\n",
       "</style>\n",
       "<table border=\"1\" class=\"dataframe\">\n",
       "  <thead>\n",
       "    <tr style=\"text-align: right;\">\n",
       "      <th></th>\n",
       "      <th>drug_payer_A_C2</th>\n",
       "      <th>drug_payer_A_C3</th>\n",
       "      <th>drug_payer_A_C4</th>\n",
       "      <th>drug_payer_B_C1</th>\n",
       "      <th>drug_payer_B_C2</th>\n",
       "      <th>drug_payer_B_C3</th>\n",
       "      <th>drug_payer_B_C4</th>\n",
       "      <th>drug_payer_C_C1</th>\n",
       "      <th>drug_payer_C_C2</th>\n",
       "      <th>drug_payer_C_C3</th>\n",
       "      <th>drug_payer_C_C4</th>\n",
       "    </tr>\n",
       "  </thead>\n",
       "  <tbody>\n",
       "    <tr>\n",
       "      <th>0</th>\n",
       "      <td>0</td>\n",
       "      <td>0</td>\n",
       "      <td>0</td>\n",
       "      <td>0</td>\n",
       "      <td>0</td>\n",
       "      <td>0</td>\n",
       "      <td>0</td>\n",
       "      <td>0</td>\n",
       "      <td>0</td>\n",
       "      <td>0</td>\n",
       "      <td>0</td>\n",
       "    </tr>\n",
       "    <tr>\n",
       "      <th>1</th>\n",
       "      <td>1</td>\n",
       "      <td>0</td>\n",
       "      <td>0</td>\n",
       "      <td>0</td>\n",
       "      <td>0</td>\n",
       "      <td>0</td>\n",
       "      <td>0</td>\n",
       "      <td>0</td>\n",
       "      <td>0</td>\n",
       "      <td>0</td>\n",
       "      <td>0</td>\n",
       "    </tr>\n",
       "    <tr>\n",
       "      <th>2</th>\n",
       "      <td>0</td>\n",
       "      <td>1</td>\n",
       "      <td>0</td>\n",
       "      <td>0</td>\n",
       "      <td>0</td>\n",
       "      <td>0</td>\n",
       "      <td>0</td>\n",
       "      <td>0</td>\n",
       "      <td>0</td>\n",
       "      <td>0</td>\n",
       "      <td>0</td>\n",
       "    </tr>\n",
       "    <tr>\n",
       "      <th>3</th>\n",
       "      <td>1</td>\n",
       "      <td>0</td>\n",
       "      <td>0</td>\n",
       "      <td>0</td>\n",
       "      <td>0</td>\n",
       "      <td>0</td>\n",
       "      <td>0</td>\n",
       "      <td>0</td>\n",
       "      <td>0</td>\n",
       "      <td>0</td>\n",
       "      <td>0</td>\n",
       "    </tr>\n",
       "    <tr>\n",
       "      <th>4</th>\n",
       "      <td>0</td>\n",
       "      <td>1</td>\n",
       "      <td>0</td>\n",
       "      <td>0</td>\n",
       "      <td>0</td>\n",
       "      <td>0</td>\n",
       "      <td>0</td>\n",
       "      <td>0</td>\n",
       "      <td>0</td>\n",
       "      <td>0</td>\n",
       "      <td>0</td>\n",
       "    </tr>\n",
       "  </tbody>\n",
       "</table>\n",
       "</div>"
      ],
      "text/plain": [
       "   drug_payer_A_C2  drug_payer_A_C3  drug_payer_A_C4  drug_payer_B_C1  \\\n",
       "0                0                0                0                0   \n",
       "1                1                0                0                0   \n",
       "2                0                1                0                0   \n",
       "3                1                0                0                0   \n",
       "4                0                1                0                0   \n",
       "\n",
       "   drug_payer_B_C2  drug_payer_B_C3  drug_payer_B_C4  drug_payer_C_C1  \\\n",
       "0                0                0                0                0   \n",
       "1                0                0                0                0   \n",
       "2                0                0                0                0   \n",
       "3                0                0                0                0   \n",
       "4                0                0                0                0   \n",
       "\n",
       "   drug_payer_C_C2  drug_payer_C_C3  drug_payer_C_C4  \n",
       "0                0                0                0  \n",
       "1                0                0                0  \n",
       "2                0                0                0  \n",
       "3                0                0                0  \n",
       "4                0                0                0  "
      ]
     },
     "execution_count": 568,
     "metadata": {},
     "output_type": "execute_result"
    }
   ],
   "source": [
    "X_oneHotEncode.head()"
   ]
  },
  {
   "cell_type": "code",
   "execution_count": 569,
   "id": "ffb41816",
   "metadata": {},
   "outputs": [],
   "source": [
    "# train_test_split\n",
    "from sklearn.model_selection import train_test_split"
   ]
  },
  {
   "cell_type": "code",
   "execution_count": 570,
   "id": "e0b4bafe",
   "metadata": {},
   "outputs": [],
   "source": [
    "# train_test_split\n",
    "X_train, X_test, y_train, y_test = train_test_split(X_oneHotEncode, y, test_size=0.25, random_state=42, stratify = y)"
   ]
  },
  {
   "cell_type": "code",
   "execution_count": 551,
   "id": "7e50fb2f",
   "metadata": {},
   "outputs": [
    {
     "data": {
      "text/plain": [
       "1001682"
      ]
     },
     "execution_count": 551,
     "metadata": {},
     "output_type": "execute_result"
    }
   ],
   "source": [
    "len(X_train)"
   ]
  },
  {
   "cell_type": "code",
   "execution_count": 95,
   "id": "87604b0c",
   "metadata": {
    "scrolled": true
   },
   "outputs": [
    {
     "data": {
      "text/plain": [
       "333894"
      ]
     },
     "execution_count": 95,
     "metadata": {},
     "output_type": "execute_result"
    }
   ],
   "source": [
    "len(X_test)"
   ]
  },
  {
   "cell_type": "code",
   "execution_count": 571,
   "id": "ace49697",
   "metadata": {},
   "outputs": [
    {
     "data": {
      "image/png": "[encoded data removed]",
      "text/plain": [
       "<Figure size 576x576 with 2 Axes>"
      ]
     },
     "metadata": {
      "needs_background": "light"
     },
     "output_type": "display_data"
    }
   ],
   "source": [
    "# correlation between independent features\n",
    "plt.figure(figsize=(8,8))\n",
    "heatmap = sns.heatmap(X_train.corr(), vmin=-1, vmax=1, annot=True)"
   ]
  },
  {
   "cell_type": "markdown",
   "id": "2ba82d20",
   "metadata": {},
   "source": [
    "# Logistic Regression"
   ]
  },
  {
   "cell_type": "code",
   "execution_count": 572,
   "id": "b09cc795",
   "metadata": {},
   "outputs": [],
   "source": [
    "# Logistic regression\n",
    "from sklearn.linear_model import LogisticRegression\n",
    "from sklearn.model_selection import KFold\n",
    "from sklearn.model_selection import cross_val_score\n",
    "from sklearn.metrics import plot_confusion_matrix, confusion_matrix"
   ]
  },
  {
   "cell_type": "code",
   "execution_count": 599,
   "id": "d4301adb",
   "metadata": {},
   "outputs": [
    {
     "name": "stdout",
     "output_type": "stream",
     "text": [
      "1.2011634118834214\n",
      "0.8565502645502645\n"
     ]
    }
   ],
   "source": [
    "# calculate class weights\n",
    "# Wj = n_samples / (n_classes * n_samples_j)\n",
    "\n",
    "W_0 = len(y)/(2*len(y[y==0]))\n",
    "W_1 = len(y)/(2*len(y[y==1]))\n",
    "\n",
    "print(W_0)\n",
    "print (W_1)"
   ]
  },
  {
   "cell_type": "code",
   "execution_count": 601,
   "id": "9e2fb591",
   "metadata": {
    "scrolled": true
   },
   "outputs": [],
   "source": [
    "# Logistic regression object\n",
    "clf = LogisticRegression(random_state = 42, solver= 'lbfgs', class_weight={0:W_0, 1:W_1})"
   ]
  },
  {
   "cell_type": "code",
   "execution_count": 602,
   "id": "368f2bf0",
   "metadata": {},
   "outputs": [
    {
     "name": "stdout",
     "output_type": "stream",
     "text": [
      "ROC_AUC: 0.922 (0.001)\n"
     ]
    }
   ],
   "source": [
    "# cross-validation\n",
    "cv = KFold(n_splits=5, random_state=42, shuffle=True)\n",
    "\n",
    "# evaluate model\n",
    "scores = cross_val_score(clf, X_train, y_train, scoring='roc_auc', cv=cv, n_jobs=-1)\n",
    "\n",
    "# report performance\n",
    "print('ROC_AUC: %.3f (%.3f)' % (np.mean(scores), np.std(scores)))"
   ]
  },
  {
   "cell_type": "code",
   "execution_count": 596,
   "id": "931e9fa9",
   "metadata": {},
   "outputs": [
    {
     "data": {
      "text/plain": [
       "Index(['drug_payer_A_C2', 'drug_payer_A_C3', 'drug_payer_A_C4',\n",
       "       'drug_payer_B_C1', 'drug_payer_B_C2', 'drug_payer_B_C3',\n",
       "       'drug_payer_B_C4', 'drug_payer_C_C1', 'drug_payer_C_C2',\n",
       "       'drug_payer_C_C3', 'drug_payer_C_C4'],\n",
       "      dtype='object')"
      ]
     },
     "execution_count": 596,
     "metadata": {},
     "output_type": "execute_result"
    }
   ],
   "source": [
    "X_train.columns"
   ]
  },
  {
   "cell_type": "code",
   "execution_count": 603,
   "id": "a528d6ca",
   "metadata": {},
   "outputs": [
    {
     "data": {
      "text/plain": [
       "LogisticRegression(class_weight={0: 1.2011634118834214, 1: 0.8565502645502645},\n",
       "                   random_state=42)"
      ]
     },
     "execution_count": 603,
     "metadata": {},
     "output_type": "execute_result"
    }
   ],
   "source": [
    "# fit model\n",
    "clf.fit(X_train, y_train)"
   ]
  },
  {
   "cell_type": "code",
   "execution_count": 604,
   "id": "dddb04b7",
   "metadata": {},
   "outputs": [
    {
     "data": {
      "image/png": "[encoded data removed]",
      "text/plain": [
       "<Figure size 432x288 with 2 Axes>"
      ]
     },
     "metadata": {
      "needs_background": "light"
     },
     "output_type": "display_data"
    }
   ],
   "source": [
    "# confusion matrix\n",
    "plot_confusion_matrix(clf, X_test, y_test,cmap=plt.cm.Blues, normalize='true')\n",
    "plt.show()  "
   ]
  },
  {
   "cell_type": "code",
   "execution_count": 605,
   "id": "24c6b659",
   "metadata": {},
   "outputs": [
    {
     "data": {
      "text/plain": [
       "array([[ 9.37810277,  9.37898835, -3.18657821,  9.39774219,  9.37408119,\n",
       "        -2.41730655, -2.66038707, -2.20043896,  9.36044616, -2.35538103,\n",
       "         9.39119011]])"
      ]
     },
     "execution_count": 605,
     "metadata": {},
     "output_type": "execute_result"
    }
   ],
   "source": [
    "clf.coef_"
   ]
  },
  {
   "cell_type": "code",
   "execution_count": 606,
   "id": "5dca7893",
   "metadata": {
    "scrolled": true
   },
   "outputs": [
    {
     "data": {
      "image/png": "[encoded data removed]",
      "text/plain": [
       "<Figure size 432x288 with 1 Axes>"
      ]
     },
     "metadata": {
      "needs_background": "light"
     },
     "output_type": "display_data"
    }
   ],
   "source": [
    "proba = clf.predict_proba(X_train)[:,1]\n",
    "plt.hist(proba)\n",
    "plt.xlabel('Probability of claim getting approved', fontsize=16)\n",
    "plt.ylabel('Count', fontsize=16)\n",
    "plt.show()"
   ]
  },
  {
   "cell_type": "code",
   "execution_count": 580,
   "id": "e73b74da",
   "metadata": {},
   "outputs": [
    {
     "data": {
      "text/plain": [
       "<AxesSubplot:>"
      ]
     },
     "execution_count": 580,
     "metadata": {},
     "output_type": "execute_result"
    },
    {
     "data": {
      "image/png": "[encoded data removed]",
      "text/plain": [
       "<Figure size 432x288 with 2 Axes>"
      ]
     },
     "metadata": {
      "needs_background": "light"
     },
     "output_type": "display_data"
    }
   ],
   "source": [
    "thresh = 0.5\n",
    "y_test_pred = np.where(proba>thresh, 1, 0)\n",
    "cm = confusion_matrix(y_train,y_test_pred)\n",
    "sns.heatmap(cm, annot=True)"
   ]
  },
  {
   "cell_type": "code",
   "execution_count": null,
   "id": "a40053d0",
   "metadata": {},
   "outputs": [],
   "source": [
    "claims.loc[claims.bin==417380, 'payer'] = 'C1'\n",
    "claims.loc[claims.bin==999001, 'payer'] = 'C2'\n",
    "claims.loc[claims.bin==417740, 'payer'] = 'C3'\n",
    "claims.loc[claims.bin==417614, 'payer'] = 'C4'"
   ]
  },
  {
   "cell_type": "code",
   "execution_count": 581,
   "id": "df01002b",
   "metadata": {},
   "outputs": [],
   "source": [
    "def WillClaimGetApproved(Drug, Payer):\n",
    "\n",
    "    X = np.array(['A_999001','A_417740','A_417614','B_417380','B_999001','B_417740','B_417614','C_417380','C_999001','C_417740','C_417614'])\n",
    "    X1 = np.where(X==Drug+'_'+Payer, 1, 0)\n",
    "\n",
    "    pred_prob = clf.predict_proba(X1.reshape(1,-1))\n",
    "    \n",
    "    thresh = 0.5\n",
    "    if pred_prob[0][1] < 0.5 :\n",
    "        reject_reason = claims[(claims['drug']==Drug) & (claims['bin']==int(Payer)) & (claims['pharmacy_claim_approved']==0)]['reject_reason']\n",
    "        print (f'Your claim has {round((1-pred_prob[0][1]),2)*100} % chance to be rejected. You will need a PA. Reason for rejection : {np.array(reject_reason)[0]}')\n",
    "    \n",
    "    else:\n",
    "        print (f'Your claim has {round(pred_prob[0][1],2)*100} % chance of approval. You don\\'t need a PA.')\n",
    "    \n",
    "    return None\n",
    "        \n",
    "    \n",
    "    \n",
    "    "
   ]
  },
  {
   "cell_type": "code",
   "execution_count": 607,
   "id": "1c98b83a",
   "metadata": {},
   "outputs": [
    {
     "name": "stdout",
     "output_type": "stream",
     "text": [
      "Your claim has 100.0 % chance to be rejected. You will need a PA. Reason for rejection : Not_in_formulary\n"
     ]
    }
   ],
   "source": [
    "# What the app should do\n",
    "\n",
    "WillClaimGetApproved('A','417614')"
   ]
  },
  {
   "cell_type": "markdown",
   "id": "72aeda12",
   "metadata": {},
   "source": [
    "# statsmodel"
   ]
  },
  {
   "cell_type": "code",
   "execution_count": 585,
   "id": "079c7a5f",
   "metadata": {},
   "outputs": [],
   "source": [
    "import statsmodels.api as sm"
   ]
  },
  {
   "cell_type": "code",
   "execution_count": 586,
   "id": "c1cf06d3",
   "metadata": {
    "scrolled": true
   },
   "outputs": [
    {
     "name": "stdout",
     "output_type": "stream",
     "text": [
      "Warning: Maximum number of iterations has been exceeded.\n",
      "         Current function value: 0.256549\n",
      "         Iterations: 35\n"
     ]
    },
    {
     "name": "stderr",
     "output_type": "stream",
     "text": [
      "/Applications/anaconda3/lib/python3.7/site-packages/statsmodels/base/model.py:568: ConvergenceWarning: Maximum Likelihood optimization failed to converge. Check mle_retvals\n",
      "  ConvergenceWarning)\n"
     ]
    }
   ],
   "source": [
    "model = sm.Logit(endog=y_train, exog=X_train).fit()"
   ]
  },
  {
   "cell_type": "code",
   "execution_count": 587,
   "id": "e42fe64e",
   "metadata": {},
   "outputs": [
    {
     "name": "stdout",
     "output_type": "stream",
     "text": [
      "                              Logit Regression Results                             \n",
      "===================================================================================\n",
      "Dep. Variable:     pharmacy_claim_approved   No. Observations:              1001682\n",
      "Model:                               Logit   Df Residuals:                  1001671\n",
      "Method:                                MLE   Df Model:                           10\n",
      "Date:                     Thu, 20 May 2021   Pseudo R-squ.:                  0.6222\n",
      "Time:                             12:37:03   Log-Likelihood:            -2.5698e+05\n",
      "converged:                           False   LL-Null:                   -6.8020e+05\n",
      "Covariance Type:                 nonrobust   LLR p-value:                     0.000\n",
      "===================================================================================\n",
      "                      coef    std err          z      P>|z|      [0.025      0.975]\n",
      "-----------------------------------------------------------------------------------\n",
      "drug_payer_A_C2     2.2002      0.007    325.745      0.000       2.187       2.213\n",
      "drug_payer_A_C3     2.2019      0.012    188.223      0.000       2.179       2.225\n",
      "drug_payer_A_C4   -24.0081    477.229     -0.050      0.960    -959.360     911.343\n",
      "drug_payer_B_C1     2.2222      0.018    120.685      0.000       2.186       2.258\n",
      "drug_payer_B_C2     2.1963      0.009    231.616      0.000       2.178       2.215\n",
      "drug_payer_B_C3   -24.4762   1017.524     -0.024      0.981   -2018.786    1969.833\n",
      "drug_payer_B_C4   -27.2561   3409.900     -0.008      0.994   -6710.538    6656.025\n",
      "drug_payer_C_C1   -32.0937   5.34e+04     -0.001      1.000   -1.05e+05    1.05e+05\n",
      "drug_payer_C_C2     2.1828      0.010    221.297      0.000       2.163       2.202\n",
      "drug_payer_C_C3   -32.5620   6.06e+04     -0.001      1.000   -1.19e+05    1.19e+05\n",
      "drug_payer_C_C4     2.2146      0.014    153.517      0.000       2.186       2.243\n",
      "===================================================================================\n",
      "\n",
      "Possibly complete quasi-separation: A fraction 0.29 of observations can be\n",
      "perfectly predicted. This might indicate that there is complete\n",
      "quasi-separation. In this case some parameters will not be identified.\n"
     ]
    }
   ],
   "source": [
    "print(model.summary())"
   ]
  },
  {
   "cell_type": "code",
   "execution_count": null,
   "id": "d19293eb",
   "metadata": {},
   "outputs": [],
   "source": []
  }
 ],
 "metadata": {
  "kernelspec": {
   "display_name": "Python 3",
   "language": "python",
   "name": "python3"
  },
  "language_info": {
   "codemirror_mode": {
    "name": "ipython",
    "version": 3
   },
   "file_extension": ".py",
   "mimetype": "text/x-python",
   "name": "python",
   "nbconvert_exporter": "python",
   "pygments_lexer": "ipython3",
   "version": "3.7.3"
  }
 },
 "nbformat": 4,
 "nbformat_minor": 5
}
