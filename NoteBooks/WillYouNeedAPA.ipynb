{
 "cells": [
  {
   "cell_type": "markdown",
   "id": "c8e8e872",
   "metadata": {},
   "source": [
    "# What are the chances for a claim to get approved?"
   ]
  },
  {
   "cell_type": "markdown",
   "id": "091f7988",
   "metadata": {},
   "source": [
    "In this notebook, I explore the <i>claims.csv</i> file and build a simple logistic regression model to predict the probability of a claim getting approved."
   ]
  },
  {
   "cell_type": "code",
   "execution_count": 1,
   "id": "a7799e1c",
   "metadata": {},
   "outputs": [],
   "source": [
    "# import packages\n",
    "import numpy as np\n",
    "import matplotlib.pyplot as plt\n",
    "import pandas as pd\n",
    "import seaborn as sns\n",
    "from sklearn.preprocessing import OneHotEncoder"
   ]
  },
  {
   "cell_type": "code",
   "execution_count": 2,
   "id": "c6404de1",
   "metadata": {},
   "outputs": [],
   "source": [
    "# read in data\n",
    "claims = pd.read_csv('../CoverMyMeds_data/dim_claims.csv')"
   ]
  },
  {
   "cell_type": "markdown",
   "id": "586771c3",
   "metadata": {},
   "source": [
    "## Explore claims data"
   ]
  },
  {
   "cell_type": "code",
   "execution_count": 3,
   "id": "75b44324",
   "metadata": {},
   "outputs": [
    {
     "data": {
      "text/html": [
       "<div>\n",
       "<style scoped>\n",
       "    .dataframe tbody tr th:only-of-type {\n",
       "        vertical-align: middle;\n",
       "    }\n",
       "\n",
       "    .dataframe tbody tr th {\n",
       "        vertical-align: top;\n",
       "    }\n",
       "\n",
       "    .dataframe thead th {\n",
       "        text-align: right;\n",
       "    }\n",
       "</style>\n",
       "<table border=\"1\" class=\"dataframe\">\n",
       "  <thead>\n",
       "    <tr style=\"text-align: right;\">\n",
       "      <th></th>\n",
       "      <th>dim_claim_id</th>\n",
       "      <th>bin</th>\n",
       "      <th>drug</th>\n",
       "      <th>reject_code</th>\n",
       "      <th>pharmacy_claim_approved</th>\n",
       "    </tr>\n",
       "  </thead>\n",
       "  <tbody>\n",
       "    <tr>\n",
       "      <th>0</th>\n",
       "      <td>1</td>\n",
       "      <td>417380</td>\n",
       "      <td>A</td>\n",
       "      <td>75.0</td>\n",
       "      <td>0</td>\n",
       "    </tr>\n",
       "    <tr>\n",
       "      <th>1</th>\n",
       "      <td>2</td>\n",
       "      <td>999001</td>\n",
       "      <td>A</td>\n",
       "      <td>NaN</td>\n",
       "      <td>1</td>\n",
       "    </tr>\n",
       "    <tr>\n",
       "      <th>2</th>\n",
       "      <td>3</td>\n",
       "      <td>417740</td>\n",
       "      <td>A</td>\n",
       "      <td>76.0</td>\n",
       "      <td>0</td>\n",
       "    </tr>\n",
       "    <tr>\n",
       "      <th>3</th>\n",
       "      <td>4</td>\n",
       "      <td>999001</td>\n",
       "      <td>A</td>\n",
       "      <td>NaN</td>\n",
       "      <td>1</td>\n",
       "    </tr>\n",
       "    <tr>\n",
       "      <th>4</th>\n",
       "      <td>5</td>\n",
       "      <td>417740</td>\n",
       "      <td>A</td>\n",
       "      <td>NaN</td>\n",
       "      <td>1</td>\n",
       "    </tr>\n",
       "  </tbody>\n",
       "</table>\n",
       "</div>"
      ],
      "text/plain": [
       "   dim_claim_id     bin drug  reject_code  pharmacy_claim_approved\n",
       "0             1  417380    A         75.0                        0\n",
       "1             2  999001    A          NaN                        1\n",
       "2             3  417740    A         76.0                        0\n",
       "3             4  999001    A          NaN                        1\n",
       "4             5  417740    A          NaN                        1"
      ]
     },
     "execution_count": 3,
     "metadata": {},
     "output_type": "execute_result"
    }
   ],
   "source": [
    "claims.head()"
   ]
  },
  {
   "cell_type": "code",
   "execution_count": 4,
   "id": "4c4f2560",
   "metadata": {},
   "outputs": [
    {
     "data": {
      "text/plain": [
       "dim_claim_id                 int64\n",
       "bin                          int64\n",
       "drug                        object\n",
       "reject_code                float64\n",
       "pharmacy_claim_approved      int64\n",
       "dtype: object"
      ]
     },
     "execution_count": 4,
     "metadata": {},
     "output_type": "execute_result"
    }
   ],
   "source": [
    "# Check dtypes of claims \n",
    "claims.dtypes"
   ]
  },
  {
   "cell_type": "code",
   "execution_count": 5,
   "id": "311b3eda",
   "metadata": {},
   "outputs": [],
   "source": [
    "# replace nan with -99\n",
    "claims['reject_code'].replace(np.nan, -99, inplace=True)"
   ]
  },
  {
   "cell_type": "code",
   "execution_count": 6,
   "id": "cd1e44ad",
   "metadata": {},
   "outputs": [
    {
     "data": {
      "text/plain": [
       "array([417380, 999001, 417740, 417614])"
      ]
     },
     "execution_count": 6,
     "metadata": {},
     "output_type": "execute_result"
    }
   ],
   "source": [
    "# Unique payers \n",
    "claims.bin.unique()"
   ]
  },
  {
   "cell_type": "code",
   "execution_count": 7,
   "id": "05b8d45c",
   "metadata": {},
   "outputs": [],
   "source": [
    "# Add new column payer\n",
    "# convert bin from int to str\n",
    "claims['payer'] = ''"
   ]
  },
  {
   "cell_type": "code",
   "execution_count": 8,
   "id": "d449a6ee",
   "metadata": {},
   "outputs": [],
   "source": [
    "# rename payers for brevity\n",
    "\n",
    "claims.loc[claims.bin==417380, 'payer'] = 'C1'\n",
    "claims.loc[claims.bin==999001, 'payer'] = 'C2'\n",
    "claims.loc[claims.bin==417740, 'payer'] = 'C3'\n",
    "claims.loc[claims.bin==417614, 'payer'] = 'C4'"
   ]
  },
  {
   "cell_type": "code",
   "execution_count": 9,
   "id": "6f0aee91",
   "metadata": {},
   "outputs": [
    {
     "data": {
      "text/html": [
       "<div>\n",
       "<style scoped>\n",
       "    .dataframe tbody tr th:only-of-type {\n",
       "        vertical-align: middle;\n",
       "    }\n",
       "\n",
       "    .dataframe tbody tr th {\n",
       "        vertical-align: top;\n",
       "    }\n",
       "\n",
       "    .dataframe thead th {\n",
       "        text-align: right;\n",
       "    }\n",
       "</style>\n",
       "<table border=\"1\" class=\"dataframe\">\n",
       "  <thead>\n",
       "    <tr style=\"text-align: right;\">\n",
       "      <th></th>\n",
       "      <th>dim_claim_id</th>\n",
       "      <th>bin</th>\n",
       "      <th>drug</th>\n",
       "      <th>reject_code</th>\n",
       "      <th>pharmacy_claim_approved</th>\n",
       "      <th>payer</th>\n",
       "    </tr>\n",
       "  </thead>\n",
       "  <tbody>\n",
       "    <tr>\n",
       "      <th>0</th>\n",
       "      <td>1</td>\n",
       "      <td>417380</td>\n",
       "      <td>A</td>\n",
       "      <td>75.0</td>\n",
       "      <td>0</td>\n",
       "      <td>C1</td>\n",
       "    </tr>\n",
       "    <tr>\n",
       "      <th>1</th>\n",
       "      <td>2</td>\n",
       "      <td>999001</td>\n",
       "      <td>A</td>\n",
       "      <td>-99.0</td>\n",
       "      <td>1</td>\n",
       "      <td>C2</td>\n",
       "    </tr>\n",
       "    <tr>\n",
       "      <th>2</th>\n",
       "      <td>3</td>\n",
       "      <td>417740</td>\n",
       "      <td>A</td>\n",
       "      <td>76.0</td>\n",
       "      <td>0</td>\n",
       "      <td>C3</td>\n",
       "    </tr>\n",
       "    <tr>\n",
       "      <th>3</th>\n",
       "      <td>4</td>\n",
       "      <td>999001</td>\n",
       "      <td>A</td>\n",
       "      <td>-99.0</td>\n",
       "      <td>1</td>\n",
       "      <td>C2</td>\n",
       "    </tr>\n",
       "    <tr>\n",
       "      <th>4</th>\n",
       "      <td>5</td>\n",
       "      <td>417740</td>\n",
       "      <td>A</td>\n",
       "      <td>-99.0</td>\n",
       "      <td>1</td>\n",
       "      <td>C3</td>\n",
       "    </tr>\n",
       "  </tbody>\n",
       "</table>\n",
       "</div>"
      ],
      "text/plain": [
       "   dim_claim_id     bin drug  reject_code  pharmacy_claim_approved payer\n",
       "0             1  417380    A         75.0                        0    C1\n",
       "1             2  999001    A        -99.0                        1    C2\n",
       "2             3  417740    A         76.0                        0    C3\n",
       "3             4  999001    A        -99.0                        1    C2\n",
       "4             5  417740    A        -99.0                        1    C3"
      ]
     },
     "execution_count": 9,
     "metadata": {},
     "output_type": "execute_result"
    }
   ],
   "source": [
    "claims.head()"
   ]
  },
  {
   "cell_type": "code",
   "execution_count": 10,
   "id": "c908d233",
   "metadata": {},
   "outputs": [],
   "source": [
    "# Add new column reject_reason\n",
    "claims['reject_reason'] = 'approved'"
   ]
  },
  {
   "cell_type": "code",
   "execution_count": 11,
   "id": "9196e757",
   "metadata": {},
   "outputs": [],
   "source": [
    "# convert reject_code from float to str for easy readability\n",
    "claims.loc[claims.reject_code==70, 'reject_reason'] = 'Not_in_formulary'\n",
    "claims.loc[claims.reject_code==75, 'reject_reason'] = 'In_formulary_needs_PA'\n",
    "claims.loc[claims.reject_code==76, 'reject_reason'] = 'In_formulary_exceeded_limit'"
   ]
  },
  {
   "cell_type": "code",
   "execution_count": 12,
   "id": "ff017b0d",
   "metadata": {},
   "outputs": [],
   "source": [
    "# create new feature \n",
    "claims['drug_payer'] = claims['drug'].astype(str)+'_'+claims['payer'].astype(str)"
   ]
  },
  {
   "cell_type": "code",
   "execution_count": 13,
   "id": "d9db101e",
   "metadata": {},
   "outputs": [
    {
     "data": {
      "text/html": [
       "<div>\n",
       "<style scoped>\n",
       "    .dataframe tbody tr th:only-of-type {\n",
       "        vertical-align: middle;\n",
       "    }\n",
       "\n",
       "    .dataframe tbody tr th {\n",
       "        vertical-align: top;\n",
       "    }\n",
       "\n",
       "    .dataframe thead th {\n",
       "        text-align: right;\n",
       "    }\n",
       "</style>\n",
       "<table border=\"1\" class=\"dataframe\">\n",
       "  <thead>\n",
       "    <tr style=\"text-align: right;\">\n",
       "      <th></th>\n",
       "      <th>dim_claim_id</th>\n",
       "      <th>bin</th>\n",
       "      <th>drug</th>\n",
       "      <th>reject_code</th>\n",
       "      <th>pharmacy_claim_approved</th>\n",
       "      <th>payer</th>\n",
       "      <th>reject_reason</th>\n",
       "      <th>drug_payer</th>\n",
       "    </tr>\n",
       "  </thead>\n",
       "  <tbody>\n",
       "    <tr>\n",
       "      <th>0</th>\n",
       "      <td>1</td>\n",
       "      <td>417380</td>\n",
       "      <td>A</td>\n",
       "      <td>75.0</td>\n",
       "      <td>0</td>\n",
       "      <td>C1</td>\n",
       "      <td>In_formulary_needs_PA</td>\n",
       "      <td>A_C1</td>\n",
       "    </tr>\n",
       "    <tr>\n",
       "      <th>1</th>\n",
       "      <td>2</td>\n",
       "      <td>999001</td>\n",
       "      <td>A</td>\n",
       "      <td>-99.0</td>\n",
       "      <td>1</td>\n",
       "      <td>C2</td>\n",
       "      <td>approved</td>\n",
       "      <td>A_C2</td>\n",
       "    </tr>\n",
       "    <tr>\n",
       "      <th>2</th>\n",
       "      <td>3</td>\n",
       "      <td>417740</td>\n",
       "      <td>A</td>\n",
       "      <td>76.0</td>\n",
       "      <td>0</td>\n",
       "      <td>C3</td>\n",
       "      <td>In_formulary_exceeded_limit</td>\n",
       "      <td>A_C3</td>\n",
       "    </tr>\n",
       "    <tr>\n",
       "      <th>3</th>\n",
       "      <td>4</td>\n",
       "      <td>999001</td>\n",
       "      <td>A</td>\n",
       "      <td>-99.0</td>\n",
       "      <td>1</td>\n",
       "      <td>C2</td>\n",
       "      <td>approved</td>\n",
       "      <td>A_C2</td>\n",
       "    </tr>\n",
       "    <tr>\n",
       "      <th>4</th>\n",
       "      <td>5</td>\n",
       "      <td>417740</td>\n",
       "      <td>A</td>\n",
       "      <td>-99.0</td>\n",
       "      <td>1</td>\n",
       "      <td>C3</td>\n",
       "      <td>approved</td>\n",
       "      <td>A_C3</td>\n",
       "    </tr>\n",
       "  </tbody>\n",
       "</table>\n",
       "</div>"
      ],
      "text/plain": [
       "   dim_claim_id     bin drug  reject_code  pharmacy_claim_approved payer  \\\n",
       "0             1  417380    A         75.0                        0    C1   \n",
       "1             2  999001    A        -99.0                        1    C2   \n",
       "2             3  417740    A         76.0                        0    C3   \n",
       "3             4  999001    A        -99.0                        1    C2   \n",
       "4             5  417740    A        -99.0                        1    C3   \n",
       "\n",
       "                 reject_reason drug_payer  \n",
       "0        In_formulary_needs_PA       A_C1  \n",
       "1                     approved       A_C2  \n",
       "2  In_formulary_exceeded_limit       A_C3  \n",
       "3                     approved       A_C2  \n",
       "4                     approved       A_C3  "
      ]
     },
     "execution_count": 13,
     "metadata": {},
     "output_type": "execute_result"
    }
   ],
   "source": [
    "claims.head()"
   ]
  },
  {
   "cell_type": "code",
   "execution_count": 14,
   "id": "323dfe88",
   "metadata": {},
   "outputs": [],
   "source": [
    "# Keep columns\n",
    "keep_columns = ['drug','payer']\n",
    "\n",
    "\n",
    "# X and y\n",
    "X = claims[keep_columns]\n",
    "y = claims['pharmacy_claim_approved']"
   ]
  },
  {
   "cell_type": "code",
   "execution_count": 15,
   "id": "cafb395b",
   "metadata": {},
   "outputs": [
    {
     "data": {
      "text/plain": [
       "779625"
      ]
     },
     "execution_count": 15,
     "metadata": {},
     "output_type": "execute_result"
    }
   ],
   "source": [
    "# Number of approved claims\n",
    "len(y[y==1])"
   ]
  },
  {
   "cell_type": "code",
   "execution_count": 16,
   "id": "618bab49",
   "metadata": {},
   "outputs": [
    {
     "data": {
      "text/plain": [
       "555951"
      ]
     },
     "execution_count": 16,
     "metadata": {},
     "output_type": "execute_result"
    }
   ],
   "source": [
    "# Number of rejected claims\n",
    "len(y[y==0])"
   ]
  },
  {
   "cell_type": "code",
   "execution_count": 17,
   "id": "7677f621",
   "metadata": {},
   "outputs": [],
   "source": [
    "# Since X columns are categorical, create dummy variables through one-hot encoding\n",
    "X_oneHotEncode = pd.get_dummies(X, drop_first=True)"
   ]
  },
  {
   "cell_type": "code",
   "execution_count": 18,
   "id": "0aab73a9",
   "metadata": {},
   "outputs": [
    {
     "data": {
      "text/html": [
       "<div>\n",
       "<style scoped>\n",
       "    .dataframe tbody tr th:only-of-type {\n",
       "        vertical-align: middle;\n",
       "    }\n",
       "\n",
       "    .dataframe tbody tr th {\n",
       "        vertical-align: top;\n",
       "    }\n",
       "\n",
       "    .dataframe thead th {\n",
       "        text-align: right;\n",
       "    }\n",
       "</style>\n",
       "<table border=\"1\" class=\"dataframe\">\n",
       "  <thead>\n",
       "    <tr style=\"text-align: right;\">\n",
       "      <th></th>\n",
       "      <th>drug_B</th>\n",
       "      <th>drug_C</th>\n",
       "      <th>payer_C2</th>\n",
       "      <th>payer_C3</th>\n",
       "      <th>payer_C4</th>\n",
       "    </tr>\n",
       "  </thead>\n",
       "  <tbody>\n",
       "    <tr>\n",
       "      <th>0</th>\n",
       "      <td>0</td>\n",
       "      <td>0</td>\n",
       "      <td>0</td>\n",
       "      <td>0</td>\n",
       "      <td>0</td>\n",
       "    </tr>\n",
       "    <tr>\n",
       "      <th>1</th>\n",
       "      <td>0</td>\n",
       "      <td>0</td>\n",
       "      <td>1</td>\n",
       "      <td>0</td>\n",
       "      <td>0</td>\n",
       "    </tr>\n",
       "    <tr>\n",
       "      <th>2</th>\n",
       "      <td>0</td>\n",
       "      <td>0</td>\n",
       "      <td>0</td>\n",
       "      <td>1</td>\n",
       "      <td>0</td>\n",
       "    </tr>\n",
       "    <tr>\n",
       "      <th>3</th>\n",
       "      <td>0</td>\n",
       "      <td>0</td>\n",
       "      <td>1</td>\n",
       "      <td>0</td>\n",
       "      <td>0</td>\n",
       "    </tr>\n",
       "    <tr>\n",
       "      <th>4</th>\n",
       "      <td>0</td>\n",
       "      <td>0</td>\n",
       "      <td>0</td>\n",
       "      <td>1</td>\n",
       "      <td>0</td>\n",
       "    </tr>\n",
       "  </tbody>\n",
       "</table>\n",
       "</div>"
      ],
      "text/plain": [
       "   drug_B  drug_C  payer_C2  payer_C3  payer_C4\n",
       "0       0       0         0         0         0\n",
       "1       0       0         1         0         0\n",
       "2       0       0         0         1         0\n",
       "3       0       0         1         0         0\n",
       "4       0       0         0         1         0"
      ]
     },
     "execution_count": 18,
     "metadata": {},
     "output_type": "execute_result"
    }
   ],
   "source": [
    "X_oneHotEncode.head()"
   ]
  },
  {
   "cell_type": "code",
   "execution_count": 19,
   "id": "ffb41816",
   "metadata": {},
   "outputs": [],
   "source": [
    "# train_test_split\n",
    "from sklearn.model_selection import train_test_split"
   ]
  },
  {
   "cell_type": "code",
   "execution_count": 20,
   "id": "e0b4bafe",
   "metadata": {},
   "outputs": [],
   "source": [
    "# train_test_split\n",
    "X_train, X_test, y_train, y_test = train_test_split(X_oneHotEncode, y, test_size=0.25, random_state=42, stratify = y)"
   ]
  },
  {
   "cell_type": "code",
   "execution_count": 21,
   "id": "7e50fb2f",
   "metadata": {},
   "outputs": [
    {
     "data": {
      "text/plain": [
       "1001682"
      ]
     },
     "execution_count": 21,
     "metadata": {},
     "output_type": "execute_result"
    }
   ],
   "source": [
    "# length of X_train\n",
    "len(X_train)"
   ]
  },
  {
   "cell_type": "code",
   "execution_count": 22,
   "id": "87604b0c",
   "metadata": {
    "scrolled": true
   },
   "outputs": [
    {
     "data": {
      "text/plain": [
       "333894"
      ]
     },
     "execution_count": 22,
     "metadata": {},
     "output_type": "execute_result"
    }
   ],
   "source": [
    "# length of X_test\n",
    "len(X_test)"
   ]
  },
  {
   "cell_type": "code",
   "execution_count": 23,
   "id": "ace49697",
   "metadata": {},
   "outputs": [
    {
     "data": {
      "image/png": "[encoded data removed]",
      "text/plain": [
       "<Figure size 576x576 with 2 Axes>"
      ]
     },
     "metadata": {
      "needs_background": "light"
     },
     "output_type": "display_data"
    }
   ],
   "source": [
    "# correlation between independent features\n",
    "plt.figure(figsize=(8,8))\n",
    "heatmap = sns.heatmap(X_train.corr(), vmin=-1, vmax=1, annot=True)"
   ]
  },
  {
   "cell_type": "markdown",
   "id": "08ca0788",
   "metadata": {},
   "source": [
    "#### There is some anticorrelation between the features payer_C2, payer_C3 and payer_C2, payer_C4. Given, that its not very strong, it is ignored for the time being."
   ]
  },
  {
   "cell_type": "markdown",
   "id": "2ba82d20",
   "metadata": {},
   "source": [
    "# Logistic Regression"
   ]
  },
  {
   "cell_type": "code",
   "execution_count": 24,
   "id": "b09cc795",
   "metadata": {},
   "outputs": [],
   "source": [
    "# Import packages\n",
    "from sklearn.linear_model import LogisticRegression\n",
    "from sklearn.model_selection import KFold\n",
    "from sklearn.model_selection import cross_val_score\n",
    "from sklearn.metrics import plot_confusion_matrix, confusion_matrix"
   ]
  },
  {
   "cell_type": "code",
   "execution_count": 25,
   "id": "eee077bc",
   "metadata": {},
   "outputs": [
    {
     "name": "stdout",
     "output_type": "stream",
     "text": [
      "1.2011634118834214\n",
      "0.8565502645502645\n"
     ]
    }
   ],
   "source": [
    "# Since the y=1 class is dominating over the y=0 class, I use class weights to balance the classes.\n",
    "\n",
    "# calculate class weights\n",
    "# Wj = n_samples / (n_classes * n_samples_j)\n",
    "\n",
    "W_0 = len(y)/(2*len(y[y==0]))\n",
    "W_1 = len(y)/(2*len(y[y==1]))\n",
    "\n",
    "print(W_0)\n",
    "print (W_1)"
   ]
  },
  {
   "cell_type": "code",
   "execution_count": 26,
   "id": "9e2fb591",
   "metadata": {
    "scrolled": true
   },
   "outputs": [],
   "source": [
    "# Logistic regression object\n",
    "clf = LogisticRegression(random_state = 42, solver= 'lbfgs', class_weight={0:W_0, 1:W_1})"
   ]
  },
  {
   "cell_type": "code",
   "execution_count": 27,
   "id": "368f2bf0",
   "metadata": {},
   "outputs": [
    {
     "name": "stdout",
     "output_type": "stream",
     "text": [
      "ROC_AUC: 0.852 (0.001)\n"
     ]
    }
   ],
   "source": [
    "# cross-validation\n",
    "cv = KFold(n_splits=5, random_state=42, shuffle=True)\n",
    "\n",
    "# evaluate model\n",
    "scores = cross_val_score(clf, X_train, y_train, scoring='roc_auc', cv=cv, n_jobs=-1)\n",
    "\n",
    "# report performance\n",
    "print('ROC_AUC: %.3f (%.3f)' % (np.mean(scores), np.std(scores)))"
   ]
  },
  {
   "cell_type": "code",
   "execution_count": 28,
   "id": "8542d7ab",
   "metadata": {},
   "outputs": [
    {
     "data": {
      "text/plain": [
       "LogisticRegression(class_weight={0: 1.2011634118834214, 1: 0.8565502645502645},\n",
       "                   random_state=42)"
      ]
     },
     "execution_count": 28,
     "metadata": {},
     "output_type": "execute_result"
    }
   ],
   "source": [
    "# fit model\n",
    "clf.fit(X_train, y_train)"
   ]
  },
  {
   "cell_type": "code",
   "execution_count": 29,
   "id": "dddb04b7",
   "metadata": {},
   "outputs": [
    {
     "data": {
      "image/png": "[encoded data removed]",
      "text/plain": [
       "<Figure size 432x288 with 2 Axes>"
      ]
     },
     "metadata": {
      "needs_background": "light"
     },
     "output_type": "display_data"
    }
   ],
   "source": [
    "# confusion matrix\n",
    "plot_confusion_matrix(clf, X_train, y_train,cmap=plt.cm.Blues, normalize='true')\n",
    "plt.savefig('../Plots/Claims_ConfusionMatrix.png')\n",
    "plt.show()  "
   ]
  },
  {
   "cell_type": "code",
   "execution_count": 31,
   "id": "5dca7893",
   "metadata": {
    "scrolled": true
   },
   "outputs": [
    {
     "data": {
      "image/png": "[encoded data removed]",
      "text/plain": [
       "<Figure size 432x288 with 1 Axes>"
      ]
     },
     "metadata": {
      "needs_background": "light"
     },
     "output_type": "display_data"
    }
   ],
   "source": [
    "# probability distribution of predictions\n",
    "\n",
    "proba = clf.predict_proba(X_train)[:,1]\n",
    "plt.hist(proba)\n",
    "plt.xlabel('Probability of claim getting approved', fontsize=16)\n",
    "plt.ylabel('Count', fontsize=16)\n",
    "plt.savefig('../Plots/Claims_probabilityDistribution.png')\n",
    "plt.show()"
   ]
  },
  {
   "cell_type": "code",
   "execution_count": 32,
   "id": "e73b74da",
   "metadata": {},
   "outputs": [
    {
     "data": {
      "text/plain": [
       "<AxesSubplot:>"
      ]
     },
     "execution_count": 32,
     "metadata": {},
     "output_type": "execute_result"
    },
    {
     "data": {
      "image/png": "[encoded data removed]",
      "text/plain": [
       "<Figure size 432x288 with 2 Axes>"
      ]
     },
     "metadata": {
      "needs_background": "light"
     },
     "output_type": "display_data"
    }
   ],
   "source": [
    "thresh = 0.5\n",
    "y_test_pred = np.where(proba>thresh, 1, 0)\n",
    "cm = confusion_matrix(y_train,y_test_pred)\n",
    "sns.heatmap(cm, annot=True)"
   ]
  },
  {
   "cell_type": "code",
   "execution_count": 33,
   "id": "df01002b",
   "metadata": {},
   "outputs": [],
   "source": [
    "# A simple function to predict the probability of claim approval given drug and payer information\n",
    "\n",
    "def WillClaimGetApproved(Drug, Payer):\n",
    "    \n",
    "    # Input array\n",
    "    X = np.array(['B','C','999001','417740','417614'])\n",
    "    \n",
    "    # Convert input array to boolean based on drug and payer \n",
    "    X1 = np.where((X==Drug)|(X==Payer), 1, 0)\n",
    "    \n",
    "    # predict probability\n",
    "    pred_prob = clf.predict_proba(X1.reshape(1,-1))\n",
    "    \n",
    "    # probability threshold\n",
    "    thresh = 0.5\n",
    "    \n",
    "    if pred_prob[0][1] < 0.5 :\n",
    "        \n",
    "        # reject_reason \n",
    "        reject_reason = claims[(claims['drug']==Drug) & (claims['bin']==int(Payer)) & (claims['pharmacy_claim_approved']==0)]['reject_reason']\n",
    "        \n",
    "        print (f'Your claim has {round((1-pred_prob[0][1]),2)*100} % chance to be rejected. You will need a PA. Reason for rejection : {np.array(reject_reason)[0]}')\n",
    "    \n",
    "    else:\n",
    "        print (f'Your claim has {round(pred_prob[0][1],2)*100} % chance of approval. You don\\'t need a PA.')\n",
    "    \n",
    "    return None\n",
    "        \n",
    "    \n",
    "    \n",
    "    "
   ]
  },
  {
   "cell_type": "code",
   "execution_count": 34,
   "id": "1c98b83a",
   "metadata": {},
   "outputs": [
    {
     "name": "stdout",
     "output_type": "stream",
     "text": [
      "Your claim has 84.0 % chance to be rejected. You will need a PA. Reason for rejection : Not_in_formulary\n"
     ]
    }
   ],
   "source": [
    "# What the app should do\n",
    "WillClaimGetApproved('A','417614')"
   ]
  },
  {
   "cell_type": "markdown",
   "id": "98111994",
   "metadata": {},
   "source": [
    "### Interpreting coefficients of logisitc regression"
   ]
  },
  {
   "cell_type": "code",
   "execution_count": 30,
   "id": "24c6b659",
   "metadata": {},
   "outputs": [
    {
     "data": {
      "text/plain": [
       "array([[-0.23476799,  0.31980895,  3.43715472,  1.05077146, -0.07790327]])"
      ]
     },
     "execution_count": 30,
     "metadata": {},
     "output_type": "execute_result"
    }
   ],
   "source": [
    "# coefficients of logistic regressor (log odds)\n",
    "clf.coef_"
   ]
  },
  {
   "cell_type": "code",
   "execution_count": 43,
   "id": "de8c0b45",
   "metadata": {},
   "outputs": [],
   "source": [
    "# Odds ratio (OR)\n",
    "OR = np.exp(clf.coef_)"
   ]
  },
  {
   "cell_type": "code",
   "execution_count": 45,
   "id": "6fd1bf04",
   "metadata": {},
   "outputs": [
    {
     "data": {
      "text/plain": [
       "array([[ 0.79075429,  1.37686469, 31.09834868,  2.85985653,  0.9250539 ]])"
      ]
     },
     "execution_count": 45,
     "metadata": {},
     "output_type": "execute_result"
    }
   ],
   "source": [
    "OR"
   ]
  },
  {
   "cell_type": "markdown",
   "id": "3ed2c266",
   "metadata": {},
   "source": [
    "### Odds ratio\n",
    "\n",
    "#### The odds of claim approval for drug B and drug C are 0.79 and 1.38 times that  of drug A respectively, keeping all other values constant.\n",
    "#### The odds of claim approval for payer_C2, payer_C3 and payer_C4 are 31.1, 2.86 and 0.93 times that of payer_C1 respectively, keeping all other values constant.\n",
    "\n",
    "#### Note : The minor correlation between the drugs and payers may influence the coefficients. "
   ]
  },
  {
   "cell_type": "markdown",
   "id": "72aeda12",
   "metadata": {},
   "source": [
    "# statsmodel \n",
    "#### Check the significance of the model"
   ]
  },
  {
   "cell_type": "code",
   "execution_count": 35,
   "id": "079c7a5f",
   "metadata": {},
   "outputs": [],
   "source": [
    "# import statsmodel\n",
    "import statsmodels.api as sm"
   ]
  },
  {
   "cell_type": "code",
   "execution_count": 36,
   "id": "c1cf06d3",
   "metadata": {
    "scrolled": true
   },
   "outputs": [
    {
     "name": "stdout",
     "output_type": "stream",
     "text": [
      "Optimization terminated successfully.\n",
      "         Current function value: 0.452088\n",
      "         Iterations 6\n"
     ]
    }
   ],
   "source": [
    "# Fit model\n",
    "model = sm.Logit(endog=y_train, exog=sm.add_constant(X_train)).fit()"
   ]
  },
  {
   "cell_type": "code",
   "execution_count": 37,
   "id": "e42fe64e",
   "metadata": {},
   "outputs": [
    {
     "name": "stdout",
     "output_type": "stream",
     "text": [
      "                              Logit Regression Results                             \n",
      "===================================================================================\n",
      "Dep. Variable:     pharmacy_claim_approved   No. Observations:              1001682\n",
      "Model:                               Logit   Df Residuals:                  1001676\n",
      "Method:                                MLE   Df Model:                            5\n",
      "Date:                     Tue, 25 May 2021   Pseudo R-squ.:                  0.3342\n",
      "Time:                             10:59:38   Log-Likelihood:            -4.5285e+05\n",
      "converged:                            True   LL-Null:                   -6.8020e+05\n",
      "Covariance Type:                 nonrobust   LLR p-value:                     0.000\n",
      "==============================================================================\n",
      "                 coef    std err          z      P>|z|      [0.025      0.975]\n",
      "------------------------------------------------------------------------------\n",
      "const         -1.2670      0.007   -177.877      0.000      -1.281      -1.253\n",
      "drug_B        -0.1880      0.006    -29.323      0.000      -0.201      -0.175\n",
      "drug_C         0.4368      0.007     66.191      0.000       0.424       0.450\n",
      "payer_C2       3.4273      0.008    417.732      0.000       3.411       3.443\n",
      "payer_C3       1.0411      0.008    125.248      0.000       1.025       1.057\n",
      "payer_C4      -0.1164      0.008    -13.935      0.000      -0.133      -0.100\n",
      "==============================================================================\n"
     ]
    }
   ],
   "source": [
    "# Model summary\n",
    "print(model.summary())"
   ]
  },
  {
   "cell_type": "markdown",
   "id": "c759c842",
   "metadata": {},
   "source": [
    "#### All the features have p-value < 0.05 and a z-value far from 0.  The 95% confidence interval for all features exclude 0, meaning the features are significant. "
   ]
  },
  {
   "cell_type": "markdown",
   "id": "b402fa7e",
   "metadata": {},
   "source": [
    "# Save model"
   ]
  },
  {
   "cell_type": "code",
   "execution_count": 39,
   "id": "d19293eb",
   "metadata": {},
   "outputs": [
    {
     "data": {
      "text/plain": [
       "['../Models/ClaimsModel_logistic.joblib']"
      ]
     },
     "execution_count": 39,
     "metadata": {},
     "output_type": "execute_result"
    }
   ],
   "source": [
    "from joblib import dump, load\n",
    "dump(clf, '../Models/ClaimsModel_logistic.joblib') "
   ]
  }
 ],
 "metadata": {
  "kernelspec": {
   "display_name": "Python 3",
   "language": "python",
   "name": "python3"
  },
  "language_info": {
   "codemirror_mode": {
    "name": "ipython",
    "version": 3
   },
   "file_extension": ".py",
   "mimetype": "text/x-python",
   "name": "python",
   "nbconvert_exporter": "python",
   "pygments_lexer": "ipython3",
   "version": "3.7.3"
  }
 },
 "nbformat": 4,
 "nbformat_minor": 5
}
